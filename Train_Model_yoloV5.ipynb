{
  "nbformat": 4,
  "nbformat_minor": 0,
  "metadata": {
    "colab": {
      "provenance": [],
      "gpuType": "T4",
      "authorship_tag": "ABX9TyOKj4Nh2hcMJ8Yx20nuqbeE",
      "include_colab_link": true
    },
    "kernelspec": {
      "name": "python3",
      "display_name": "Python 3"
    },
    "language_info": {
      "name": "python"
    },
    "accelerator": "GPU"
  },
  "cells": [
    {
      "cell_type": "markdown",
      "metadata": {
        "id": "view-in-github",
        "colab_type": "text"
      },
      "source": [
        "<a href=\"https://colab.research.google.com/github/ZeroGalack/Training-preparation-YoloV5/blob/main/Train_Model_yoloV5.ipynb\" target=\"_parent\"><img src=\"https://colab.research.google.com/assets/colab-badge.svg\" alt=\"Open In Colab\"/></a>"
      ]
    },
    {
      "cell_type": "markdown",
      "source": [
        "# Treinamento YOLO"
      ],
      "metadata": {
        "id": "bdEHwgreFKSP"
      }
    },
    {
      "cell_type": "markdown",
      "source": [
        "## Setup"
      ],
      "metadata": {
        "id": "GS4MT1_3Fnx_"
      }
    },
    {
      "cell_type": "code",
      "source": [
        "# Installing Yolov5 dependencies.\n",
        "\n",
        "!git clone https://github.com/ultralytics/yolov5  # clone\n",
        "%cd yolov5\n",
        "%pip install -qr requirements.txt  # install\n",
        "\n",
        "import torch"
      ],
      "metadata": {
        "colab": {
          "base_uri": "https://localhost:8080/"
        },
        "id": "tJsQRYj1F_82",
        "outputId": "2e6ca226-b387-4603-88d5-342a601ab9d0"
      },
      "execution_count": null,
      "outputs": [
        {
          "output_type": "stream",
          "name": "stdout",
          "text": [
            "Cloning into 'yolov5'...\n",
            "remote: Enumerating objects: 15994, done.\u001b[K\n",
            "remote: Counting objects: 100% (27/27), done.\u001b[K\n",
            "remote: Compressing objects: 100% (15/15), done.\u001b[K\n",
            "remote: Total 15994 (delta 18), reused 18 (delta 12), pack-reused 15967\u001b[K\n",
            "Receiving objects: 100% (15994/15994), 14.58 MiB | 768.00 KiB/s, done.\n",
            "Resolving deltas: 100% (10984/10984), done.\n",
            "/content/yolov5\n",
            "\u001b[2K     \u001b[90m━━━━━━━━━━━━━━━━━━━━━━━━━━━━━━━━━━━━━━━\u001b[0m \u001b[32m190.0/190.0 kB\u001b[0m \u001b[31m2.3 MB/s\u001b[0m eta \u001b[36m0:00:00\u001b[0m\n",
            "\u001b[2K     \u001b[90m━━━━━━━━━━━━━━━━━━━━━━━━━━━━━━━━━━━━━━\u001b[0m \u001b[32m618.0/618.0 kB\u001b[0m \u001b[31m33.4 MB/s\u001b[0m eta \u001b[36m0:00:00\u001b[0m\n",
            "\u001b[2K     \u001b[90m━━━━━━━━━━━━━━━━━━━━━━━━━━━━━━━━━━━━━━━━\u001b[0m \u001b[32m62.7/62.7 kB\u001b[0m \u001b[31m8.2 MB/s\u001b[0m eta \u001b[36m0:00:00\u001b[0m\n",
            "\u001b[?25h"
          ]
        }
      ]
    },
    {
      "cell_type": "code",
      "source": [
        "%cd ..\n",
        "!git clone https://github.com/ZeroGalack/Training-preparation-YoloV5.git\n",
        "\n",
        "%cd Training-preparation-YoloV5\n",
        "!unzip -q train_data.zip -d ../"
      ],
      "metadata": {
        "colab": {
          "base_uri": "https://localhost:8080/"
        },
        "id": "F7P1GQXKxr4r",
        "outputId": "8193fc25-fb16-47bf-80e6-2619a26fec88"
      },
      "execution_count": null,
      "outputs": [
        {
          "output_type": "stream",
          "name": "stdout",
          "text": [
            "/content\n",
            "Cloning into 'Training-preparation-YoloV5'...\n",
            "remote: Enumerating objects: 31, done.\u001b[K\n",
            "remote: Counting objects: 100% (31/31), done.\u001b[K\n",
            "remote: Compressing objects: 100% (21/21), done.\u001b[K\n",
            "remote: Total 31 (delta 14), reused 21 (delta 7), pack-reused 0\u001b[K\n",
            "Receiving objects: 100% (31/31), 18.34 MiB | 12.63 MiB/s, done.\n",
            "Resolving deltas: 100% (14/14), done.\n",
            "/content/Training-preparation-YoloV5\n"
          ]
        }
      ]
    },
    {
      "cell_type": "markdown",
      "source": [
        "### Data"
      ],
      "metadata": {
        "id": "AWuEydbtHUe3"
      }
    },
    {
      "cell_type": "code",
      "source": [
        "data_yaml = \"/content/Training-preparation-YoloV5/module/customdata.yaml\""
      ],
      "metadata": {
        "id": "y0Z99WTdW2NO"
      },
      "execution_count": null,
      "outputs": []
    },
    {
      "cell_type": "code",
      "source": [
        "weight = \"/content/Training-preparation-YoloV5/module/weights.pt\""
      ],
      "metadata": {
        "id": "9kD5JKiSXEhl"
      },
      "execution_count": null,
      "outputs": []
    },
    {
      "cell_type": "markdown",
      "source": [
        "## Train\n"
      ],
      "metadata": {
        "id": "Chsdzi9YWxjU"
      }
    },
    {
      "cell_type": "code",
      "source": [
        "%cd ..\n",
        "%cd yolov5\n",
        "\n",
        "!python train.py --img 640 --batch 12 --epochs 5 --data $data_yaml --weights $weight --name \"model\" --project \"/content\""
      ],
      "metadata": {
        "id": "MNtnD_avgeh6"
      },
      "execution_count": null,
      "outputs": []
    },
    {
      "cell_type": "markdown",
      "source": [
        "## Test\n"
      ],
      "metadata": {
        "id": "jDfifDMfPL40"
      }
    },
    {
      "cell_type": "code",
      "source": [
        "!python val.py --data \"/content/data.yaml\" --weights $weight --task test"
      ],
      "metadata": {
        "colab": {
          "base_uri": "https://localhost:8080/"
        },
        "id": "pStPbzIUryz9",
        "outputId": "232f982d-ce3b-4954-cc8b-d71cd7949613"
      },
      "execution_count": null,
      "outputs": [
        {
          "output_type": "stream",
          "name": "stdout",
          "text": [
            "\u001b[34m\u001b[1mval: \u001b[0mdata=/content/data.yaml, weights=['/content/Training-preparation-YoloV5/module/weights.pt'], batch_size=32, imgsz=640, conf_thres=0.001, iou_thres=0.6, max_det=300, task=test, device=, workers=8, single_cls=False, augment=False, verbose=False, save_txt=False, save_hybrid=False, save_conf=False, save_json=False, project=runs/val, name=exp, exist_ok=False, half=False, dnn=False\n",
            "WARNING ⚠️ invalid check_version(5.9.5, ) requested, please check values.\n",
            "YOLOv5 🚀 v7.0-224-g6262c7f Python-3.10.12 torch-2.0.1+cu118 CUDA:0 (Tesla T4, 15102MiB)\n",
            "\n",
            "Fusing layers... \n",
            "Model summary: 157 layers, 7018216 parameters, 0 gradients, 15.8 GFLOPs\n",
            "\u001b[34m\u001b[1mtest: \u001b[0mScanning /content/train_data/labels/train.cache... 32 images, 11 backgrounds, 0 corrupt: 100% 32/32 [00:00<?, ?it/s]\n",
            "                 Class     Images  Instances          P          R      mAP50   mAP50-95: 100% 1/1 [00:01<00:00,  1.01s/it]\n",
            "                   all         32         42      0.763      0.759      0.862      0.576\n",
            "                  viva         32         31      0.829      0.625      0.814      0.484\n",
            "                 grupo         32          1       0.84          1      0.995      0.796\n",
            "                 morta         32         10      0.619      0.653      0.776      0.448\n",
            "Speed: 0.2ms pre-process, 9.9ms inference, 3.0ms NMS per image at shape (32, 3, 640, 640)\n",
            "Results saved to \u001b[1mruns/val/exp7\u001b[0m\n"
          ]
        }
      ]
    },
    {
      "cell_type": "markdown",
      "source": [
        "## Download model"
      ],
      "metadata": {
        "id": "WUQHapWCXYzc"
      }
    },
    {
      "cell_type": "code",
      "source": [
        "# Baixar modelo\n",
        "\n",
        "import shutil\n",
        "\n",
        "MODEL_NAME = \"model3\"\n",
        "\n",
        "shutil.make_archive(f\"/content/{MODEL_NAME}\", 'zip',f\"/content/{MODEL_NAME}\")\n",
        "\n",
        "from google.colab import files\n",
        "files.download(f\"/content/{MODEL_NAME}.zip\")"
      ],
      "metadata": {
        "colab": {
          "base_uri": "https://localhost:8080/",
          "height": 17
        },
        "id": "_fW4sTrYKxCx",
        "outputId": "83c61148-5dca-4360-ec3d-3f874b1d9aa9"
      },
      "execution_count": null,
      "outputs": [
        {
          "output_type": "display_data",
          "data": {
            "text/plain": [
              "<IPython.core.display.Javascript object>"
            ],
            "application/javascript": [
              "\n",
              "    async function download(id, filename, size) {\n",
              "      if (!google.colab.kernel.accessAllowed) {\n",
              "        return;\n",
              "      }\n",
              "      const div = document.createElement('div');\n",
              "      const label = document.createElement('label');\n",
              "      label.textContent = `Downloading \"${filename}\": `;\n",
              "      div.appendChild(label);\n",
              "      const progress = document.createElement('progress');\n",
              "      progress.max = size;\n",
              "      div.appendChild(progress);\n",
              "      document.body.appendChild(div);\n",
              "\n",
              "      const buffers = [];\n",
              "      let downloaded = 0;\n",
              "\n",
              "      const channel = await google.colab.kernel.comms.open(id);\n",
              "      // Send a message to notify the kernel that we're ready.\n",
              "      channel.send({})\n",
              "\n",
              "      for await (const message of channel.messages) {\n",
              "        // Send a message to notify the kernel that we're ready.\n",
              "        channel.send({})\n",
              "        if (message.buffers) {\n",
              "          for (const buffer of message.buffers) {\n",
              "            buffers.push(buffer);\n",
              "            downloaded += buffer.byteLength;\n",
              "            progress.value = downloaded;\n",
              "          }\n",
              "        }\n",
              "      }\n",
              "      const blob = new Blob(buffers, {type: 'application/binary'});\n",
              "      const a = document.createElement('a');\n",
              "      a.href = window.URL.createObjectURL(blob);\n",
              "      a.download = filename;\n",
              "      div.appendChild(a);\n",
              "      a.click();\n",
              "      div.remove();\n",
              "    }\n",
              "  "
            ]
          },
          "metadata": {}
        },
        {
          "output_type": "display_data",
          "data": {
            "text/plain": [
              "<IPython.core.display.Javascript object>"
            ],
            "application/javascript": [
              "download(\"download_81f9b3a8-3fb5-47b0-8d39-2f6c819699b9\", \"model3.zip\", 22)"
            ]
          },
          "metadata": {}
        }
      ]
    }
  ]
}